{
 "cells": [
  {
   "cell_type": "code",
   "execution_count": 1,
   "id": "6269634f",
   "metadata": {},
   "outputs": [],
   "source": [
    "# https://api.coindesk.com/v1/bpi/currentprice.json"
   ]
  },
  {
   "cell_type": "code",
   "execution_count": 2,
   "id": "1e9f7ba2",
   "metadata": {},
   "outputs": [
    {
     "name": "stdout",
     "output_type": "stream",
     "text": [
      "{'time': {'updated': 'Dec 30, 2022 17:53:00 UTC', 'updatedISO': '2022-12-30T17:53:00+00:00', 'updateduk': 'Dec 30, 2022 at 17:53 GMT'}, 'disclaimer': 'This data was produced from the CoinDesk Bitcoin Price Index (USD). Non-USD currency data converted using hourly conversion rate from openexchangerates.org', 'chartName': 'Bitcoin', 'bpi': {'USD': {'code': 'USD', 'symbol': '&#36;', 'rate': '16,487.7272', 'description': 'United States Dollar', 'rate_float': 16487.7272}, 'GBP': {'code': 'GBP', 'symbol': '&pound;', 'rate': '13,777.0130', 'description': 'British Pound Sterling', 'rate_float': 13777.013}, 'EUR': {'code': 'EUR', 'symbol': '&euro;', 'rate': '16,061.4535', 'description': 'Euro', 'rate_float': 16061.4535}}}\n"
     ]
    }
   ],
   "source": [
    "import requests\n",
    "\n",
    "response = requests.get('https://api.coindesk.com/v1/bpi/currentprice.json')\n",
    "\n",
    "data = response.json()\n",
    "print(data)"
   ]
  },
  {
   "cell_type": "code",
   "execution_count": 6,
   "id": "980423d8",
   "metadata": {},
   "outputs": [
    {
     "name": "stdout",
     "output_type": "stream",
     "text": [
      "Time: Dec 30, 2022 17:53:00 UTC\n",
      "Price of 1 BTC : 16487.7272\n"
     ]
    }
   ],
   "source": [
    "print(\"Time: \" + str(data['time']['updated']))\n",
    "print(\"Price of 1 BTC : \" + str(data['bpi']['USD']['rate_float']))"
   ]
  },
  {
   "cell_type": "code",
   "execution_count": null,
   "id": "7840eef2",
   "metadata": {},
   "outputs": [],
   "source": []
  }
 ],
 "metadata": {
  "kernelspec": {
   "display_name": "Python 3 (ipykernel)",
   "language": "python",
   "name": "python3"
  },
  "language_info": {
   "codemirror_mode": {
    "name": "ipython",
    "version": 3
   },
   "file_extension": ".py",
   "mimetype": "text/x-python",
   "name": "python",
   "nbconvert_exporter": "python",
   "pygments_lexer": "ipython3",
   "version": "3.11.0"
  }
 },
 "nbformat": 4,
 "nbformat_minor": 5
}
