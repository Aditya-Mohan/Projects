{
 "cells": [
  {
   "cell_type": "code",
   "execution_count": 1,
   "id": "2662fd94",
   "metadata": {},
   "outputs": [
    {
     "name": "stdout",
     "output_type": "stream",
     "text": [
      "                                                Text Emotions\n",
      "0  i can go from feeling so hopeless to so damned...  sadness\n",
      "1   im grabbing a minute to post i feel greedy wrong    anger\n",
      "2  i am ever feeling nostalgic about the fireplac...     love\n",
      "3                               i am feeling grouchy    anger\n",
      "4  ive been feeling a little burdened lately wasn...  sadness\n"
     ]
    }
   ],
   "source": [
    "import pandas as pd\n",
    "import numpy as np\n",
    "import keras\n",
    "import tensorflow\n",
    "from keras.preprocessing.text import Tokenizer\n",
    "from tensorflow.keras.preprocessing.sequence import pad_sequences\n",
    "from sklearn.preprocessing import LabelEncoder\n",
    "from sklearn.model_selection import train_test_split\n",
    "from keras.models import Sequential\n",
    "from keras.layers import Embedding, Flatten, Dense\n",
    "\n",
    "\n",
    "data = pd.read_csv(\"train.txt\", sep=';')\n",
    "data.columns = [\"Text\", \"Emotions\"]\n",
    "print(data.head())"
   ]
  },
  {
   "cell_type": "code",
   "execution_count": 2,
   "id": "66b80141",
   "metadata": {},
   "outputs": [],
   "source": [
    "texts = data[\"Text\"].tolist()\n",
    "labels = data[\"Emotions\"].tolist()\n",
    "\n",
    "# Tokenize the text data\n",
    "tokenizer = Tokenizer()\n",
    "tokenizer.fit_on_texts(texts)"
   ]
  },
  {
   "cell_type": "code",
   "execution_count": 3,
   "id": "3c2a5dc4",
   "metadata": {},
   "outputs": [],
   "source": [
    "sequences = tokenizer.texts_to_sequences(texts)\n",
    "max_length = max([len(seq) for seq in sequences])\n",
    "padded_sequences = pad_sequences(sequences, maxlen=max_length)"
   ]
  },
  {
   "cell_type": "code",
   "execution_count": 4,
   "id": "99d74474",
   "metadata": {},
   "outputs": [],
   "source": [
    "# Encode the string labels to integers\n",
    "label_encoder = LabelEncoder()\n",
    "labels = label_encoder.fit_transform(labels)"
   ]
  },
  {
   "cell_type": "code",
   "execution_count": 5,
   "id": "1ff0c582",
   "metadata": {},
   "outputs": [],
   "source": [
    "# One-hot encode the labels\n",
    "one_hot_labels = keras.utils.to_categorical(labels)"
   ]
  },
  {
   "cell_type": "code",
   "execution_count": 6,
   "id": "f9e07679",
   "metadata": {},
   "outputs": [],
   "source": [
    "# Split the data into training and testing sets\n",
    "xtrain, xtest, ytrain, ytest = train_test_split(padded_sequences, \n",
    "                                                one_hot_labels, \n",
    "                                                test_size=0.2)"
   ]
  },
  {
   "cell_type": "code",
   "execution_count": 7,
   "id": "0c6862f3",
   "metadata": {},
   "outputs": [
    {
     "name": "stdout",
     "output_type": "stream",
     "text": [
      "Epoch 1/10\n",
      "400/400 [==============================] - 24s 57ms/step - loss: 1.3330 - accuracy: 0.4946 - val_loss: 0.8182 - val_accuracy: 0.7256\n",
      "Epoch 2/10\n",
      "400/400 [==============================] - 22s 56ms/step - loss: 0.3225 - accuracy: 0.8986 - val_loss: 0.5232 - val_accuracy: 0.8331\n",
      "Epoch 3/10\n",
      "400/400 [==============================] - 24s 60ms/step - loss: 0.0531 - accuracy: 0.9871 - val_loss: 0.5521 - val_accuracy: 0.8288\n",
      "Epoch 4/10\n",
      "400/400 [==============================] - 23s 56ms/step - loss: 0.0243 - accuracy: 0.9945 - val_loss: 0.5689 - val_accuracy: 0.8366\n",
      "Epoch 5/10\n",
      "400/400 [==============================] - 22s 56ms/step - loss: 0.0172 - accuracy: 0.9961 - val_loss: 0.5997 - val_accuracy: 0.8338\n",
      "Epoch 6/10\n",
      "400/400 [==============================] - 23s 58ms/step - loss: 0.0133 - accuracy: 0.9971 - val_loss: 0.6887 - val_accuracy: 0.8288\n",
      "Epoch 7/10\n",
      "400/400 [==============================] - 25s 62ms/step - loss: 0.0135 - accuracy: 0.9967 - val_loss: 0.6652 - val_accuracy: 0.8322\n",
      "Epoch 8/10\n",
      "400/400 [==============================] - 26s 66ms/step - loss: 0.0096 - accuracy: 0.9978 - val_loss: 0.6683 - val_accuracy: 0.8253\n",
      "Epoch 9/10\n",
      "400/400 [==============================] - 26s 64ms/step - loss: 0.0103 - accuracy: 0.9975 - val_loss: 0.7495 - val_accuracy: 0.8253\n",
      "Epoch 10/10\n",
      "400/400 [==============================] - 24s 61ms/step - loss: 0.0101 - accuracy: 0.9973 - val_loss: 0.6942 - val_accuracy: 0.8291\n"
     ]
    },
    {
     "data": {
      "text/plain": [
       "<keras.callbacks.History at 0x24a8ffa5550>"
      ]
     },
     "execution_count": 7,
     "metadata": {},
     "output_type": "execute_result"
    }
   ],
   "source": [
    "# Define the model\n",
    "model = Sequential()\n",
    "model.add(Embedding(input_dim=len(tokenizer.word_index) + 1, \n",
    "                    output_dim=128, input_length=max_length))\n",
    "model.add(Flatten())\n",
    "model.add(Dense(units=128, activation=\"relu\"))\n",
    "model.add(Dense(units=len(one_hot_labels[0]), activation=\"softmax\"))\n",
    "\n",
    "model.compile(optimizer=\"adam\", loss=\"categorical_crossentropy\", metrics=[\"accuracy\"])\n",
    "model.fit(xtrain, ytrain, epochs=10, batch_size=32, validation_data=(xtest, ytest))"
   ]
  },
  {
   "cell_type": "code",
   "execution_count": 10,
   "id": "3d42421f",
   "metadata": {},
   "outputs": [
    {
     "name": "stdout",
     "output_type": "stream",
     "text": [
      "1/1 [==============================] - 0s 37ms/step\n",
      "['joy']\n"
     ]
    }
   ],
   "source": [
    "input_text = \"This is so awesome. I can't believe this happened.\"\n",
    "\n",
    "# Preprocess the input text\n",
    "input_sequence = tokenizer.texts_to_sequences([input_text])\n",
    "padded_input_sequence = pad_sequences(input_sequence, maxlen=max_length)\n",
    "prediction = model.predict(padded_input_sequence)\n",
    "predicted_label = label_encoder.inverse_transform([np.argmax(prediction[0])])\n",
    "print(predicted_label)"
   ]
  },
  {
   "cell_type": "code",
   "execution_count": null,
   "id": "0cfc3413",
   "metadata": {},
   "outputs": [],
   "source": []
  }
 ],
 "metadata": {
  "kernelspec": {
   "display_name": "Python 3 (ipykernel)",
   "language": "python",
   "name": "python3"
  },
  "language_info": {
   "codemirror_mode": {
    "name": "ipython",
    "version": 3
   },
   "file_extension": ".py",
   "mimetype": "text/x-python",
   "name": "python",
   "nbconvert_exporter": "python",
   "pygments_lexer": "ipython3",
   "version": "3.9.11"
  }
 },
 "nbformat": 4,
 "nbformat_minor": 5
}
